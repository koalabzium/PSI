{
 "cells": [
  {
   "cell_type": "code",
   "execution_count": 59,
   "metadata": {},
   "outputs": [
    {
     "data": {
      "text/html": [
       "        <script type=\"text/javascript\">\n",
       "        window.PlotlyConfig = {MathJaxConfig: 'local'};\n",
       "        if (window.MathJax) {MathJax.Hub.Config({SVG: {font: \"STIX-Web\"}});}\n",
       "        if (typeof require !== 'undefined') {\n",
       "        require.undef(\"plotly\");\n",
       "        requirejs.config({\n",
       "            paths: {\n",
       "                'plotly': ['https://cdn.plot.ly/plotly-latest.min']\n",
       "            }\n",
       "        });\n",
       "        require(['plotly'], function(Plotly) {\n",
       "            window._Plotly = Plotly;\n",
       "        });\n",
       "        }\n",
       "        </script>\n",
       "        "
      ]
     },
     "metadata": {},
     "output_type": "display_data"
    }
   ],
   "source": [
    "import pandas as pd\n",
    "import numpy as np\n",
    "import os\n",
    "from tabulate import tabulate\n",
    "\n",
    "from sklearn.preprocessing import minmax_scale\n",
    "\n",
    "pd.set_option('display.max_columns',15)\n",
    "import sklearn.preprocessing as sk\n",
    "\n",
    "import warnings\n",
    "warnings.filterwarnings('ignore')\n",
    "\n",
    "from sklearn import linear_model\n",
    "from sklearn.metrics import mean_squared_error, r2_score\n",
    "\n",
    "import plotly\n",
    "import plotly.plotly as py\n",
    "import plotly.graph_objs as go\n",
    "from plotly import tools\n",
    "from plotly.offline import download_plotlyjs, init_notebook_mode, plot, iplot\n",
    "init_notebook_mode(connected=True)\n",
    "\n",
    "from sklearn.neighbors import KNeighborsClassifier\n",
    "from sklearn.svm import SVC\n",
    "from sklearn.gaussian_process import GaussianProcessClassifier\n",
    "from sklearn.gaussian_process.kernels import RBF\n",
    "from sklearn.tree import DecisionTreeClassifier\n",
    "from sklearn.ensemble import RandomForestClassifier\n"
   ]
  },
  {
   "cell_type": "code",
   "execution_count": 60,
   "metadata": {},
   "outputs": [],
   "source": [
    "def classification(num):\n",
    "    if num<4.5:\n",
    "        return 0\n",
    "    else:\n",
    "        return 1\n",
    "\n",
    "def preprocesProcedura(file):\n",
    "    data = pd.read_csv(file, sep=\"\\t\", header=None)\n",
    "    data.columns = ['id', 'stimulusId', 'consistency', 'picture_sound_pos_neg', 'sound_number', 'picture_number','choose_type', 'not_processed_answer', 'answer_time', 'stimulus_time']\n",
    "    answer=''\n",
    "    # data.dropna()\n",
    "    data = (data[['id', 'consistency', 'picture_sound_pos_neg', 'sound_number', 'picture_number', 'choose_type','not_processed_answer']].copy())\n",
    "    data = data[data['consistency'] == 'inc']\n",
    "    data = data[data['choose_type'] == 'emospace1']\n",
    "    data = (data[['id', 'picture_sound_pos_neg', 'sound_number', 'picture_number', 'not_processed_answer']].copy())\n",
    "\n",
    "    answer=data['not_processed_answer']\n",
    "    answer_valence=[]\n",
    "    answer_arousal=[]\n",
    "\n",
    "    for i in answer:\n",
    "        a=i[1:]\n",
    "        a=a[:-1]\n",
    "        a=a.split(', ',1)\n",
    "\n",
    "        answer_valence.append(float(a[0]))\n",
    "        answer_arousal.append(float(a[1]))\n",
    "\n",
    "\n",
    "    answer_valance_scaled = minmax_scale(answer_valence, feature_range=(1,9))\n",
    "    answer_arousal_scaled = minmax_scale(answer_arousal, feature_range=(1,9))\n",
    "\n",
    "    data['answer_valence']=answer_valance_scaled\n",
    "    data['answer_valence']=data['answer_valence'].astype(\"float\")\n",
    "    data['answer_arousal']=answer_arousal_scaled\n",
    "    data['answer_arousal']=data['answer_arousal'].astype(\"float\")\n",
    "\n",
    "    data['class_valence']=data['answer_valence'].apply(classification)\n",
    "    data['class_arousal']=data['answer_arousal'].apply(classification)\n",
    "    \n",
    "    pictures_data = preprocesPictures()\n",
    "    sounds_data = preprocesSounds()\n",
    "\n",
    "\n",
    "    # print(pictures_data)\n",
    "    # print(pictures_data.dtypes)\n",
    "\n",
    "\n",
    "    data = data.merge(sounds_data, on='sound_number')\n",
    "    data = data.merge(pictures_data, on='picture_number')\n",
    "\n",
    "    # data['picture_sound_pos_neg'] = data['picture_sound_pos_neg'].apply(lambda x : str(convert_to_pos_neg(x)))\n",
    "    is_picture_pos = []\n",
    "    is_sound_pos = []\n",
    "\n",
    "\n",
    "\n",
    "    for i in data['picture_sound_pos_neg']:\n",
    "        if i == \"p+s-\":\n",
    "            is_picture_pos.append(1)\n",
    "            is_sound_pos.append(0)\n",
    "        else:\n",
    "            is_picture_pos.append(0)\n",
    "            is_sound_pos.append(1)\n",
    "\n",
    "    data['is_picture_positive'] = is_picture_pos\n",
    "    data['is_sound_positive'] = is_sound_pos\n",
    "\n",
    "    data = (data[['id', 'sound_number', 'sound_valence_mean', 'sound_arousal_mean', 'is_sound_positive', 'is_sound_obscene',\n",
    "                  'picture_number', 'picture_arousal_mean', 'picture_valence_mean', 'is_picture_positive', 'is_picture_obscene',\n",
    "                  'not_processed_answer', 'answer_valence', 'answer_arousal', 'class_valence', 'class_arousal']].copy())\n",
    "\n",
    "    # print(\"PO JOINIE\")\n",
    "    #print(tabulate(data, headers='keys', tablefmt='psql'))\n",
    "    #print(data.dtypes)\n",
    "\n",
    "    return data\n",
    "\n",
    "\n",
    "def preprocesPictures():\n",
    "    data=pd.read_csv('IAPS.csv',sep=';')\n",
    "    data = (data[['Description', 'IAPS', 'ValenceMean', 'ArousalMean']].copy())\n",
    "    data.columns = ['is_picture_obscene', 'picture_number', 'picture_valence_mean', 'picture_arousal_mean']\n",
    "    data['picture_number'] = data['picture_number'].apply(lambda x : x.replace(',', ''))\n",
    "    data['picture_number'] = data['picture_number'].apply(lambda x : int(x))\n",
    "    data['picture_valence_mean'] = data['picture_valence_mean'].apply(lambda x : x.replace(',', '.'))\n",
    "    data['picture_arousal_mean'] = data['picture_arousal_mean'].apply(lambda x : x.replace(',', '.'))\n",
    "    data['picture_valence_mean'] = data['picture_valence_mean'].apply(lambda x : float(x))\n",
    "    data['picture_arousal_mean'] = data['picture_arousal_mean'].apply(lambda x : float(x))\n",
    "    data['is_picture_obscene'] = data['is_picture_obscene'].apply(lambda  x : is_obscene(x))\n",
    "    data['is_picture_obscene'] = data['is_picture_obscene'].astype(\"int\")\n",
    "    return data\n",
    "\n",
    "\n",
    "def preprocesSounds():\n",
    "    data = pd.read_csv('IADS2.csv', sep=';')\n",
    "    data = (data[['Sound', 'Number', 'ValenceMean', 'ArousalMean']].copy())\n",
    "    data.columns = ['is_sound_obscene', 'sound_number', 'sound_valence_mean', 'sound_arousal_mean']\n",
    "    data['is_sound_obscene'] = data['is_sound_obscene'].apply(lambda  x : is_obscene(x))\n",
    "    data['is_sound_obscene'] = data['is_sound_obscene'].astype(\"int\")\n",
    "    return data\n",
    "\n",
    "def is_obscene(description):\n",
    "    if description[:6] == 'Erotic' or description[0:4] == 'Nude':\n",
    "        return '1'\n",
    "    else:\n",
    "        return '0'\n",
    "\n",
    "def convert_to_pos_neg(pXsX):\n",
    "    if pXsX == \"p-s+\":\n",
    "        to_return = [-1,1]\n",
    "        return to_return\n",
    "    elif pXsX == \"p+s-\":\n",
    "        to_return = [1,-1]\n",
    "        return to_return\n",
    "    else:\n",
    "        return {0,2}\n",
    "\n",
    "\n",
    "# print(\"PICTURES\")\n",
    "# preprocesPictures()\n",
    "# print(\"SOUDS\")\n",
    "# preprocesSounds()\n",
    "\n"
   ]
  },
  {
   "cell_type": "code",
   "execution_count": 61,
   "metadata": {},
   "outputs": [
    {
     "data": {
      "text/html": [
       "<div>\n",
       "<style scoped>\n",
       "    .dataframe tbody tr th:only-of-type {\n",
       "        vertical-align: middle;\n",
       "    }\n",
       "\n",
       "    .dataframe tbody tr th {\n",
       "        vertical-align: top;\n",
       "    }\n",
       "\n",
       "    .dataframe thead th {\n",
       "        text-align: right;\n",
       "    }\n",
       "</style>\n",
       "<table border=\"1\" class=\"dataframe\">\n",
       "  <thead>\n",
       "    <tr style=\"text-align: right;\">\n",
       "      <th></th>\n",
       "      <th>id</th>\n",
       "      <th>sound_number</th>\n",
       "      <th>sound_valence_mean</th>\n",
       "      <th>sound_arousal_mean</th>\n",
       "      <th>is_sound_positive</th>\n",
       "      <th>is_sound_obscene</th>\n",
       "      <th>picture_number</th>\n",
       "      <th>...</th>\n",
       "      <th>is_picture_positive</th>\n",
       "      <th>is_picture_obscene</th>\n",
       "      <th>not_processed_answer</th>\n",
       "      <th>answer_valence</th>\n",
       "      <th>answer_arousal</th>\n",
       "      <th>class_valence</th>\n",
       "      <th>class_arousal</th>\n",
       "    </tr>\n",
       "  </thead>\n",
       "  <tbody>\n",
       "    <tr>\n",
       "      <th>0</th>\n",
       "      <td>7474</td>\n",
       "      <td>353</td>\n",
       "      <td>7.38</td>\n",
       "      <td>6.62</td>\n",
       "      <td>1</td>\n",
       "      <td>0</td>\n",
       "      <td>6370</td>\n",
       "      <td>...</td>\n",
       "      <td>0</td>\n",
       "      <td>0</td>\n",
       "      <td>[-0.6831561279296877, 0.6013513183593753]</td>\n",
       "      <td>1.994399</td>\n",
       "      <td>7.796091</td>\n",
       "      <td>0</td>\n",
       "      <td>1</td>\n",
       "    </tr>\n",
       "    <tr>\n",
       "      <th>1</th>\n",
       "      <td>7474</td>\n",
       "      <td>220</td>\n",
       "      <td>7.28</td>\n",
       "      <td>6.00</td>\n",
       "      <td>1</td>\n",
       "      <td>0</td>\n",
       "      <td>2683</td>\n",
       "      <td>...</td>\n",
       "      <td>0</td>\n",
       "      <td>0</td>\n",
       "      <td>[-0.8501599121093754, -0.021140136718749966]</td>\n",
       "      <td>1.121171</td>\n",
       "      <td>4.976980</td>\n",
       "      <td>0</td>\n",
       "      <td>1</td>\n",
       "    </tr>\n",
       "    <tr>\n",
       "      <th>2</th>\n",
       "      <td>7474</td>\n",
       "      <td>610</td>\n",
       "      <td>5.94</td>\n",
       "      <td>6.48</td>\n",
       "      <td>1</td>\n",
       "      <td>0</td>\n",
       "      <td>3063</td>\n",
       "      <td>...</td>\n",
       "      <td>0</td>\n",
       "      <td>0</td>\n",
       "      <td>[-0.6776574707031255, 0.6292211914062504]</td>\n",
       "      <td>2.023150</td>\n",
       "      <td>7.922306</td>\n",
       "      <td>0</td>\n",
       "      <td>1</td>\n",
       "    </tr>\n",
       "    <tr>\n",
       "      <th>3</th>\n",
       "      <td>7474</td>\n",
       "      <td>204</td>\n",
       "      <td>5.68</td>\n",
       "      <td>6.82</td>\n",
       "      <td>1</td>\n",
       "      <td>1</td>\n",
       "      <td>3053</td>\n",
       "      <td>...</td>\n",
       "      <td>0</td>\n",
       "      <td>0</td>\n",
       "      <td>[-0.5741912841796873, 0.6115795898437494]</td>\n",
       "      <td>2.564153</td>\n",
       "      <td>7.842412</td>\n",
       "      <td>0</td>\n",
       "      <td>1</td>\n",
       "    </tr>\n",
       "    <tr>\n",
       "      <th>4</th>\n",
       "      <td>7474</td>\n",
       "      <td>312</td>\n",
       "      <td>3.89</td>\n",
       "      <td>6.89</td>\n",
       "      <td>0</td>\n",
       "      <td>0</td>\n",
       "      <td>8370</td>\n",
       "      <td>...</td>\n",
       "      <td>1</td>\n",
       "      <td>0</td>\n",
       "      <td>[0.6294079589843747, 0.6439398193359377]</td>\n",
       "      <td>8.857520</td>\n",
       "      <td>7.988964</td>\n",
       "      <td>1</td>\n",
       "      <td>1</td>\n",
       "    </tr>\n",
       "  </tbody>\n",
       "</table>\n",
       "<p>5 rows × 16 columns</p>\n",
       "</div>"
      ],
      "text/plain": [
       "     id  sound_number  sound_valence_mean  sound_arousal_mean  \\\n",
       "0  7474           353                7.38                6.62   \n",
       "1  7474           220                7.28                6.00   \n",
       "2  7474           610                5.94                6.48   \n",
       "3  7474           204                5.68                6.82   \n",
       "4  7474           312                3.89                6.89   \n",
       "\n",
       "   is_sound_positive  is_sound_obscene  picture_number  ...  \\\n",
       "0                  1                 0            6370  ...   \n",
       "1                  1                 0            2683  ...   \n",
       "2                  1                 0            3063  ...   \n",
       "3                  1                 1            3053  ...   \n",
       "4                  0                 0            8370  ...   \n",
       "\n",
       "   is_picture_positive  is_picture_obscene  \\\n",
       "0                    0                   0   \n",
       "1                    0                   0   \n",
       "2                    0                   0   \n",
       "3                    0                   0   \n",
       "4                    1                   0   \n",
       "\n",
       "                           not_processed_answer  answer_valence  \\\n",
       "0     [-0.6831561279296877, 0.6013513183593753]        1.994399   \n",
       "1  [-0.8501599121093754, -0.021140136718749966]        1.121171   \n",
       "2     [-0.6776574707031255, 0.6292211914062504]        2.023150   \n",
       "3     [-0.5741912841796873, 0.6115795898437494]        2.564153   \n",
       "4      [0.6294079589843747, 0.6439398193359377]        8.857520   \n",
       "\n",
       "  answer_arousal  class_valence  class_arousal  \n",
       "0       7.796091              0              1  \n",
       "1       4.976980              0              1  \n",
       "2       7.922306              0              1  \n",
       "3       7.842412              0              1  \n",
       "4       7.988964              1              1  \n",
       "\n",
       "[5 rows x 16 columns]"
      ]
     },
     "execution_count": 61,
     "metadata": {},
     "output_type": "execute_result"
    }
   ],
   "source": [
    "filesToProcess = []\n",
    "\n",
    "directory = os.fsencode('proceduraTXT')\n",
    "for file in os.listdir(directory):\n",
    "    filename = os.fsdecode(file)\n",
    "    filesToProcess.append(preprocesProcedura('proceduraTXT/'+filename))\n",
    "    df = pd.concat(filesToProcess, ignore_index=True)\n",
    "\n",
    "df.head()"
   ]
  },
  {
   "cell_type": "code",
   "execution_count": 62,
   "metadata": {},
   "outputs": [
    {
     "data": {
      "image/png": "[encoded data removed]",
      "text/plain": [
       "<Figure size 720x576 with 2 Axes>"
      ]
     },
     "metadata": {
      "needs_background": "light"
     },
     "output_type": "display_data"
    }
   ],
   "source": [
    "import matplotlib.pyplot as plt\n",
    "import seaborn as sns\n",
    "\n",
    "correlation_matrix = df.corr()\n",
    "plt.figure(figsize=(10,8))\n",
    "ax = sns.heatmap(correlation_matrix, vmax=1, square=True, annot=True,fmt='.2f', cmap ='GnBu', cbar_kws={\"shrink\": .5}, robust=True)\n",
    "plt.title('Correlation matrix between the features', fontsize=20)\n",
    "plt.show()"
   ]
  },
  {
   "cell_type": "code",
   "execution_count": 52,
   "metadata": {},
   "outputs": [
    {
     "name": "stdout",
     "output_type": "stream",
     "text": [
      "Index(['id', 'sound_number', 'sound_valence_mean', 'sound_arousal_mean',\n",
      "       'is_sound_positive', 'is_sound_obscene', 'picture_number',\n",
      "       'picture_arousal_mean', 'picture_valence_mean', 'is_picture_positive',\n",
      "       'is_picture_obscene', 'not_processed_answer', 'answer_valence',\n",
      "       'answer_arousal', 'class_valence', 'class_arousal'],\n",
      "      dtype='object')\n"
     ]
    }
   ],
   "source": [
    "#df = df.drop(['is_sound_positive', 'is_picture_positive', 'id'], axis=1)\n",
    "print(df.columns)\n",
    "all_features = ['sound_number', 'sound_valence_mean', 'sound_arousal_mean',\n",
    "    'is_sound_obscene', 'picture_arousal_mean',\n",
    "       'picture_valence_mean', 'picture_valence_mean', \n",
    "       'is_picture_obscene']\n",
    "targets = ['answer_valence', 'answer_arousal', 'class_valence', 'class_arousal']\n",
    "\n",
    "from sklearn.model_selection import train_test_split\n",
    "train, test = train_test_split(df, test_size=0.2, random_state=2)"
   ]
  },
  {
   "cell_type": "code",
   "execution_count": 41,
   "metadata": {},
   "outputs": [],
   "source": [
    "from sklearn.model_selection import GridSearchCV\n",
    "\n",
    "def performLinearGridSearch(algo, params, target):\n",
    "    clf = GridSearchCV(algo(), params, cv=5,\n",
    "                   scoring='neg_mean_squared_error')\n",
    "    clf.fit(train[all_features], train[target])\n",
    "\n",
    "    print(\"Best parameters set found on development set:\")\n",
    "    print()\n",
    "    print(clf.best_params_)\n",
    "    print()\n",
    "    print(\"Grid scores on development set:\")\n",
    "    print()\n",
    "    means = clf.cv_results_['mean_test_score']\n",
    "#     stds = clf.cv_results_['std_test_score']\n",
    "#     for mean, std, params in zip(means, stds, clf.cv_results_['params']):\n",
    "#         print(\"%0.3f (+/-%0.03f) for %r\"\n",
    "#               % (mean, std * 2, params))\n",
    "    print()\n",
    "    return clf.best_params_"
   ]
  },
  {
   "cell_type": "code",
   "execution_count": 42,
   "metadata": {},
   "outputs": [],
   "source": [
    "def computeScore(y_test, y_pred):\n",
    "    mse = mean_squared_error(y_test, y_pred)\n",
    "    print(\"Mean squared error: %.2f\"\n",
    "      % mse)\n",
    "    # Explained variance score: 1 is perfect prediction\n",
    "    r2 = r2_score(y_test, y_pred)\n",
    "    print('Variance score: %.2f' % r2)\n",
    "    \n",
    "    return [mse, r2]"
   ]
  },
  {
   "cell_type": "code",
   "execution_count": 45,
   "metadata": {},
   "outputs": [],
   "source": [
    "def perfromOnTarget(target):\n",
    "    alphas = np.logspace(-5, 2, 30)\n",
    "\n",
    "    names = ['linear regression', 'lasso', 'elastic net']\n",
    "    models_params = [(\n",
    "        linear_model.LinearRegression, {'fit_intercept':[True,False], 'normalize':[True,False], 'copy_X':[True, False]}), \n",
    "        (linear_model.Lasso, {'alpha': alphas, 'fit_intercept': [True, False]}), \n",
    "        (linear_model.ElasticNet, {'alpha': alphas, 'fit_intercept': [True, False], 'normalize': [True, False]})]\n",
    "\n",
    "    results = [['mean squared error', 'variance score']]\n",
    "\n",
    "    for m,p in models_params:\n",
    "        bp = performLinearGridSearch(m, p, target)\n",
    "        if m == linear_model.Lasso:\n",
    "            if target == targets[0]:\n",
    "                model = linear_model.Lasso(alpha=0.001487, fit_intercept=True)\n",
    "            else:\n",
    "                model = linear_model.Lasso(alpha=0.00003039, fit_intercept=True)\n",
    "        elif m == linear_model.ElasticNet:       \n",
    "            if target == targets[0]:\n",
    "                model = linear_model.ElasticNet(alpha=0.00259, fit_intercept=True, normalize=False)\n",
    "            else:\n",
    "                model = linear_model.ElasticNet(alpha=0.000092367, fit_intercept=True, normalize=True)                \n",
    "        else:\n",
    "            model = m(bp)\n",
    "\n",
    "\n",
    "        model.fit(train[all_features], train[target])\n",
    "        predicted = model.predict(test[all_features])\n",
    "        results.append(computeScore(test[target], predicted))\n",
    "        \n",
    "    trace = go.Table(\n",
    "    header=dict(values=[\"\"]+[name for name in names], \n",
    "                fill = dict(color='#a1c3d1')),\n",
    "    cells=dict(values=results, \n",
    "              fill = dict(color='#EDFAFF')))\n",
    "\n",
    "    layout = go.Layout(\n",
    "        title=go.layout.Title(\n",
    "            text='Comparison of linear models',\n",
    "            xref='paper',\n",
    "            x=0\n",
    "        )\n",
    "    )\n",
    "    fig = go.Figure(data=[trace], layout=layout)\n",
    "    iplot(fig)\n",
    "    "
   ]
  },
  {
   "cell_type": "code",
   "execution_count": 46,
   "metadata": {},
   "outputs": [
    {
     "name": "stdout",
     "output_type": "stream",
     "text": [
      "Best parameters set found on development set:\n",
      "\n",
      "{'copy_X': True, 'fit_intercept': True, 'normalize': False}\n",
      "\n",
      "Grid scores on development set:\n",
      "\n",
      "\n",
      "Mean squared error: 4.31\n",
      "Variance score: 0.22\n",
      "Best parameters set found on development set:\n",
      "\n",
      "{'alpha': 0.0014873521072935117, 'fit_intercept': True}\n",
      "\n",
      "Grid scores on development set:\n",
      "\n",
      "\n",
      "Mean squared error: 4.31\n",
      "Variance score: 0.22\n",
      "Best parameters set found on development set:\n",
      "\n",
      "{'alpha': 0.002592943797404667, 'fit_intercept': True, 'normalize': False}\n",
      "\n",
      "Grid scores on development set:\n",
      "\n",
      "\n",
      "Mean squared error: 4.31\n",
      "Variance score: 0.22\n"
     ]
    },
    {
     "data": {
      "application/vnd.plotly.v1+json": {
       "config": {
        "linkText": "Export to plot.ly",
        "plotlyServerURL": "https://plot.ly",
        "responsive": true,
        "showLink": false
       },
       "data": [
        {
         "cells": {
          "fill": {
           "color": "#EDFAFF"
          },
          "values": [
           [
            "mean squared error",
            "variance score"
           ],
           [
            4.311214671568154,
            0.21563904117165078
           ],
           [
            4.310562909308318,
            0.215757619556166
           ],
           [
            4.310567061833232,
            0.21575686406643269
           ]
          ]
         },
         "header": {
          "fill": {
           "color": "#a1c3d1"
          },
          "values": [
           "",
           "linear regression",
           "lasso",
           "elastic net"
          ]
         },
         "type": "table",
         "uid": "c756d690-18fe-4c8e-ab1c-32bd6534f64f"
        }
       ],
       "layout": {
        "title": {
         "text": "Comparison of linear models",
         "x": 0,
         "xref": "paper"
        }
       }
      },
      "text/html": [
       "<div>\n",
       "        \n",
       "        \n",
       "            <div id=\"f0729200-04d9-4ec5-845d-4614b5f43c24\" class=\"plotly-graph-div\" style=\"height:525px; width:100%;\"></div>\n",
       "            <script type=\"text/javascript\">\n",
       "                require([\"plotly\"], function(Plotly) {\n",
       "                    window.PLOTLYENV=window.PLOTLYENV || {};\n",
       "                    window.PLOTLYENV.BASE_URL='https://plot.ly';\n",
       "                    \n",
       "                if (document.getElementById(\"f0729200-04d9-4ec5-845d-4614b5f43c24\")) {\n",
       "                    Plotly.newPlot(\n",
       "                        'f0729200-04d9-4ec5-845d-4614b5f43c24',\n",
       "                        [{\"cells\": {\"fill\": {\"color\": \"#EDFAFF\"}, \"values\": [[\"mean squared error\", \"variance score\"], [4.311214671568154, 0.21563904117165078], [4.310562909308318, 0.215757619556166], [4.310567061833232, 0.21575686406643269]]}, \"header\": {\"fill\": {\"color\": \"#a1c3d1\"}, \"values\": [\"\", \"linear regression\", \"lasso\", \"elastic net\"]}, \"type\": \"table\", \"uid\": \"c3651787-1ed1-43d2-a0f0-d8da7dedd2d6\"}],\n",
       "                        {\"title\": {\"text\": \"Comparison of linear models\", \"x\": 0, \"xref\": \"paper\"}},\n",
       "                        {\"showLink\": false, \"linkText\": \"Export to plot.ly\", \"plotlyServerURL\": \"https://plot.ly\", \"responsive\": true}\n",
       "                    ).then(function(){\n",
       "                            \n",
       "var gd = document.getElementById('f0729200-04d9-4ec5-845d-4614b5f43c24');\n",
       "var x = new MutationObserver(function (mutations, observer) {{\n",
       "        var display = window.getComputedStyle(gd).display;\n",
       "        if (!display || display === 'none') {{\n",
       "            console.log([gd, 'removed!']);\n",
       "            Plotly.purge(gd);\n",
       "            observer.disconnect();\n",
       "        }}\n",
       "}});\n",
       "\n",
       "// Listen for the removal of the full notebook cells\n",
       "var notebookContainer = gd.closest('#notebook-container');\n",
       "if (notebookContainer) {{\n",
       "    x.observe(notebookContainer, {childList: true});\n",
       "}}\n",
       "\n",
       "// Listen for the clearing of the current output cell\n",
       "var outputEl = gd.closest('.output');\n",
       "if (outputEl) {{\n",
       "    x.observe(outputEl, {childList: true});\n",
       "}}\n",
       "\n",
       "                        })\n",
       "                };\n",
       "                });\n",
       "            </script>\n",
       "        </div>"
      ]
     },
     "metadata": {},
     "output_type": "display_data"
    },
    {
     "name": "stdout",
     "output_type": "stream",
     "text": [
      "Best parameters set found on development set:\n",
      "\n",
      "{'copy_X': True, 'fit_intercept': True, 'normalize': False}\n",
      "\n",
      "Grid scores on development set:\n",
      "\n",
      "\n",
      "Mean squared error: 5.30\n",
      "Variance score: 0.04\n",
      "Best parameters set found on development set:\n",
      "\n",
      "{'alpha': 3.039195382313195e-05, 'fit_intercept': True}\n",
      "\n",
      "Grid scores on development set:\n",
      "\n",
      "\n",
      "Mean squared error: 5.30\n",
      "Variance score: 0.04\n",
      "Best parameters set found on development set:\n",
      "\n",
      "{'alpha': 9.236708571873866e-05, 'fit_intercept': True, 'normalize': True}\n",
      "\n",
      "Grid scores on development set:\n",
      "\n",
      "\n",
      "Mean squared error: 5.31\n",
      "Variance score: 0.04\n"
     ]
    },
    {
     "data": {
      "application/vnd.plotly.v1+json": {
       "config": {
        "linkText": "Export to plot.ly",
        "plotlyServerURL": "https://plot.ly",
        "responsive": true,
        "showLink": false
       },
       "data": [
        {
         "cells": {
          "fill": {
           "color": "#EDFAFF"
          },
          "values": [
           [
            "mean squared error",
            "variance score"
           ],
           [
            5.296358278935806,
            0.04257317483763556
           ],
           [
            5.296434512605716,
            0.0425593940175496
           ],
           [
            5.308896826797189,
            0.0403065717419171
           ]
          ]
         },
         "header": {
          "fill": {
           "color": "#a1c3d1"
          },
          "values": [
           "",
           "linear regression",
           "lasso",
           "elastic net"
          ]
         },
         "type": "table",
         "uid": "c11b1b1b-c5d3-4a35-bde3-81a2876590f7"
        }
       ],
       "layout": {
        "title": {
         "text": "Comparison of linear models",
         "x": 0,
         "xref": "paper"
        }
       }
      },
      "text/html": [
       "<div>\n",
       "        \n",
       "        \n",
       "            <div id=\"ad01fdfd-d48d-4ab2-a7a7-449049d33e0a\" class=\"plotly-graph-div\" style=\"height:525px; width:100%;\"></div>\n",
       "            <script type=\"text/javascript\">\n",
       "                require([\"plotly\"], function(Plotly) {\n",
       "                    window.PLOTLYENV=window.PLOTLYENV || {};\n",
       "                    window.PLOTLYENV.BASE_URL='https://plot.ly';\n",
       "                    \n",
       "                if (document.getElementById(\"ad01fdfd-d48d-4ab2-a7a7-449049d33e0a\")) {\n",
       "                    Plotly.newPlot(\n",
       "                        'ad01fdfd-d48d-4ab2-a7a7-449049d33e0a',\n",
       "                        [{\"cells\": {\"fill\": {\"color\": \"#EDFAFF\"}, \"values\": [[\"mean squared error\", \"variance score\"], [5.296358278935806, 0.04257317483763556], [5.296434512605716, 0.0425593940175496], [5.308896826797189, 0.0403065717419171]]}, \"header\": {\"fill\": {\"color\": \"#a1c3d1\"}, \"values\": [\"\", \"linear regression\", \"lasso\", \"elastic net\"]}, \"type\": \"table\", \"uid\": \"e46f3725-6bc7-448c-bffe-b13c7a875d5d\"}],\n",
       "                        {\"title\": {\"text\": \"Comparison of linear models\", \"x\": 0, \"xref\": \"paper\"}},\n",
       "                        {\"showLink\": false, \"linkText\": \"Export to plot.ly\", \"plotlyServerURL\": \"https://plot.ly\", \"responsive\": true}\n",
       "                    ).then(function(){\n",
       "                            \n",
       "var gd = document.getElementById('ad01fdfd-d48d-4ab2-a7a7-449049d33e0a');\n",
       "var x = new MutationObserver(function (mutations, observer) {{\n",
       "        var display = window.getComputedStyle(gd).display;\n",
       "        if (!display || display === 'none') {{\n",
       "            console.log([gd, 'removed!']);\n",
       "            Plotly.purge(gd);\n",
       "            observer.disconnect();\n",
       "        }}\n",
       "}});\n",
       "\n",
       "// Listen for the removal of the full notebook cells\n",
       "var notebookContainer = gd.closest('#notebook-container');\n",
       "if (notebookContainer) {{\n",
       "    x.observe(notebookContainer, {childList: true});\n",
       "}}\n",
       "\n",
       "// Listen for the clearing of the current output cell\n",
       "var outputEl = gd.closest('.output');\n",
       "if (outputEl) {{\n",
       "    x.observe(outputEl, {childList: true});\n",
       "}}\n",
       "\n",
       "                        })\n",
       "                };\n",
       "                });\n",
       "            </script>\n",
       "        </div>"
      ]
     },
     "metadata": {},
     "output_type": "display_data"
    }
   ],
   "source": [
    "perfromOnTarget(targets[0])\n",
    "perfromOnTarget(targets[1])"
   ]
  },
  {
   "cell_type": "code",
   "execution_count": 91,
   "metadata": {},
   "outputs": [],
   "source": [
    "def performLinearGridSearchClassification(algo, params, target):\n",
    "    print()\n",
    "    print()\n",
    "    print(algo)\n",
    "    clf = GridSearchCV(algo(), params, cv=5,\n",
    "                   scoring='f1')\n",
    "    clf.fit(train[all_features], train[target])\n",
    "\n",
    "    print(\"Best parameters set found on development set:\")\n",
    "    print()\n",
    "    print(clf.best_params_)\n",
    "    print()\n",
    "#     print(\"Grid scores on development set:\")\n",
    "    \n",
    "    means = clf.cv_results_['mean_test_score']\n",
    "#     stds = clf.cv_results_['std_test_score']\n",
    "#     for mean, std, params in zip(means, stds, clf.cv_results_['params']):\n",
    "#         print(\"%0.3f (+/-%0.03f) for %r\"\n",
    "#               % (mean, std * 2, params))\n",
    "    return clf.best_params_\n"
   ]
  },
  {
   "cell_type": "code",
   "execution_count": 92,
   "metadata": {},
   "outputs": [],
   "source": [
    "from sklearn.metrics import f1_score\n",
    "\n",
    "def computeScoreClassification(y_test, y_pred):\n",
    "    f1 = f1_score(y_test, y_pred)\n",
    "    print(\"f1 score: %.2f\"\n",
    "      % f1)\n",
    "    \n",
    "    return f1\n",
    "\n",
    "\n"
   ]
  },
  {
   "cell_type": "code",
   "execution_count": 97,
   "metadata": {},
   "outputs": [],
   "source": [
    "def perfromOnTargetClassification(target):\n",
    "    names = ['KN Neighbors', 'Decision tree', 'Random forest']\n",
    "    models_params = [\n",
    "    (KNeighborsClassifier, {'n_neighbors': [3, 5, 10, 15, 20, 50]} ),\n",
    "    (DecisionTreeClassifier, {'max_depth': [3, 5, 7], 'criterion':['gini', 'entropy']}),\n",
    "    (RandomForestClassifier, {'n_estimators': [3, 5, 10, 20, 30], 'max_depth': [5, 10]})]\n",
    "    results = [['f1']]\n",
    "\n",
    "    for m,p in models_params:\n",
    "        bp = performLinearGridSearchClassification(m, p, target)\n",
    "\n",
    "\n",
    "        if m == KNeighborsClassifier:\n",
    "            if target == targets[2]:\n",
    "                model = KNeighborsClassifier(n_neighbors=50)\n",
    "        \n",
    "            else:\n",
    "                model = KNeighborsClassifier(n_neighbors=50)     \n",
    "        elif m == DecisionTreeClassifier:\n",
    "            if target == targets[2]:\n",
    "                model =  DecisionTreeClassifier(max_depth=5, criterion='entropy')\n",
    "            else:\n",
    "                model = DecisionTreeClassifier(max_depth=3, criterion='entropy')\n",
    "        else:\n",
    "            if target == targets[2]:\n",
    "                model = RandomForestClassifier(max_depth=5, n_estimators=30)\n",
    "            else:\n",
    "                model = RandomForestClassifier(max_depth=5, n_estimators=10)                \n",
    "\n",
    "        model.fit(train[all_features], train[target])\n",
    "        predicted = model.predict(test[all_features])\n",
    "        results.append(computeScoreClassification(test[target], predicted))\n",
    "        \n",
    "    trace = go.Table(\n",
    "    header=dict(values=[\"\"]+[name for name in names], \n",
    "                fill = dict(color='#a1c3d1')),\n",
    "    cells=dict(values=results, \n",
    "              fill = dict(color='#EDFAFF')))\n",
    "\n",
    "    layout = go.Layout(\n",
    "        title=go.layout.Title(\n",
    "            text=f'Comparison of classification models for %s' % target,\n",
    "            xref='paper',\n",
    "            x=0\n",
    "        )\n",
    "    )\n",
    "    fig = go.Figure(data=[trace], layout=layout)\n",
    "    iplot(fig)"
   ]
  },
  {
   "cell_type": "code",
   "execution_count": 98,
   "metadata": {},
   "outputs": [
    {
     "name": "stdout",
     "output_type": "stream",
     "text": [
      "\n",
      "\n",
      "<class 'sklearn.neighbors.classification.KNeighborsClassifier'>\n",
      "Best parameters set found on development set:\n",
      "\n",
      "{'n_neighbors': 50}\n",
      "\n",
      "f1 score: 0.76\n",
      "\n",
      "\n",
      "<class 'sklearn.tree.tree.DecisionTreeClassifier'>\n",
      "Best parameters set found on development set:\n",
      "\n",
      "{'criterion': 'entropy', 'max_depth': 5}\n",
      "\n",
      "f1 score: 0.76\n",
      "\n",
      "\n",
      "<class 'sklearn.ensemble.forest.RandomForestClassifier'>\n",
      "Best parameters set found on development set:\n",
      "\n",
      "{'max_depth': 5, 'n_estimators': 5}\n",
      "\n",
      "f1 score: 0.76\n"
     ]
    },
    {
     "data": {
      "application/vnd.plotly.v1+json": {
       "config": {
        "linkText": "Export to plot.ly",
        "plotlyServerURL": "https://plot.ly",
        "responsive": true,
        "showLink": false
       },
       "data": [
        {
         "cells": {
          "fill": {
           "color": "#EDFAFF"
          },
          "values": [
           [
            "f1"
           ],
           0.7607361963190185,
           0.7577639751552794,
           0.7636932707355242
          ]
         },
         "header": {
          "fill": {
           "color": "#a1c3d1"
          },
          "values": [
           "",
           "KN Neighbors",
           "Decision tree",
           "Random forest"
          ]
         },
         "type": "table",
         "uid": "b4c1cb62-e6b2-400e-9289-8f7c48627930"
        }
       ],
       "layout": {
        "title": {
         "text": "Comparison of classification models for class_valence",
         "x": 0,
         "xref": "paper"
        }
       }
      },
      "text/html": [
       "<div>\n",
       "        \n",
       "        \n",
       "            <div id=\"7fa0bb7a-c12a-451b-828c-5485871e80de\" class=\"plotly-graph-div\" style=\"height:525px; width:100%;\"></div>\n",
       "            <script type=\"text/javascript\">\n",
       "                require([\"plotly\"], function(Plotly) {\n",
       "                    window.PLOTLYENV=window.PLOTLYENV || {};\n",
       "                    window.PLOTLYENV.BASE_URL='https://plot.ly';\n",
       "                    \n",
       "                if (document.getElementById(\"7fa0bb7a-c12a-451b-828c-5485871e80de\")) {\n",
       "                    Plotly.newPlot(\n",
       "                        '7fa0bb7a-c12a-451b-828c-5485871e80de',\n",
       "                        [{\"cells\": {\"fill\": {\"color\": \"#EDFAFF\"}, \"values\": [[\"f1\"], 0.7607361963190185, 0.7577639751552794, 0.7636932707355242]}, \"header\": {\"fill\": {\"color\": \"#a1c3d1\"}, \"values\": [\"\", \"KN Neighbors\", \"Decision tree\", \"Random forest\"]}, \"type\": \"table\", \"uid\": \"4e87ea30-cf05-485d-b7e7-ed0384c86943\"}],\n",
       "                        {\"title\": {\"text\": \"Comparison of classification models for class_valence\", \"x\": 0, \"xref\": \"paper\"}},\n",
       "                        {\"showLink\": false, \"linkText\": \"Export to plot.ly\", \"plotlyServerURL\": \"https://plot.ly\", \"responsive\": true}\n",
       "                    ).then(function(){\n",
       "                            \n",
       "var gd = document.getElementById('7fa0bb7a-c12a-451b-828c-5485871e80de');\n",
       "var x = new MutationObserver(function (mutations, observer) {{\n",
       "        var display = window.getComputedStyle(gd).display;\n",
       "        if (!display || display === 'none') {{\n",
       "            console.log([gd, 'removed!']);\n",
       "            Plotly.purge(gd);\n",
       "            observer.disconnect();\n",
       "        }}\n",
       "}});\n",
       "\n",
       "// Listen for the removal of the full notebook cells\n",
       "var notebookContainer = gd.closest('#notebook-container');\n",
       "if (notebookContainer) {{\n",
       "    x.observe(notebookContainer, {childList: true});\n",
       "}}\n",
       "\n",
       "// Listen for the clearing of the current output cell\n",
       "var outputEl = gd.closest('.output');\n",
       "if (outputEl) {{\n",
       "    x.observe(outputEl, {childList: true});\n",
       "}}\n",
       "\n",
       "                        })\n",
       "                };\n",
       "                });\n",
       "            </script>\n",
       "        </div>"
      ]
     },
     "metadata": {},
     "output_type": "display_data"
    },
    {
     "name": "stdout",
     "output_type": "stream",
     "text": [
      "\n",
      "\n",
      "<class 'sklearn.neighbors.classification.KNeighborsClassifier'>\n",
      "Best parameters set found on development set:\n",
      "\n",
      "{'n_neighbors': 50}\n",
      "\n",
      "f1 score: 0.76\n",
      "\n",
      "\n",
      "<class 'sklearn.tree.tree.DecisionTreeClassifier'>\n",
      "Best parameters set found on development set:\n",
      "\n",
      "{'criterion': 'entropy', 'max_depth': 3}\n",
      "\n",
      "f1 score: 0.77\n",
      "\n",
      "\n",
      "<class 'sklearn.ensemble.forest.RandomForestClassifier'>\n",
      "Best parameters set found on development set:\n",
      "\n",
      "{'max_depth': 5, 'n_estimators': 5}\n",
      "\n",
      "f1 score: 0.77\n"
     ]
    },
    {
     "data": {
      "application/vnd.plotly.v1+json": {
       "config": {
        "linkText": "Export to plot.ly",
        "plotlyServerURL": "https://plot.ly",
        "responsive": true,
        "showLink": false
       },
       "data": [
        {
         "cells": {
          "fill": {
           "color": "#EDFAFF"
          },
          "values": [
           [
            "f1"
           ],
           0.7646326276463262,
           0.7727825030376672,
           0.7679012345679013
          ]
         },
         "header": {
          "fill": {
           "color": "#a1c3d1"
          },
          "values": [
           "",
           "KN Neighbors",
           "Decision tree",
           "Random forest"
          ]
         },
         "type": "table",
         "uid": "1b00f87b-89a4-4c8a-a52b-a6a8b66c6c3d"
        }
       ],
       "layout": {
        "title": {
         "text": "Comparison of classification models for class_arousal",
         "x": 0,
         "xref": "paper"
        }
       }
      },
      "text/html": [
       "<div>\n",
       "        \n",
       "        \n",
       "            <div id=\"ae87b8f3-5229-4e51-88bb-fa854e7dbaa3\" class=\"plotly-graph-div\" style=\"height:525px; width:100%;\"></div>\n",
       "            <script type=\"text/javascript\">\n",
       "                require([\"plotly\"], function(Plotly) {\n",
       "                    window.PLOTLYENV=window.PLOTLYENV || {};\n",
       "                    window.PLOTLYENV.BASE_URL='https://plot.ly';\n",
       "                    \n",
       "                if (document.getElementById(\"ae87b8f3-5229-4e51-88bb-fa854e7dbaa3\")) {\n",
       "                    Plotly.newPlot(\n",
       "                        'ae87b8f3-5229-4e51-88bb-fa854e7dbaa3',\n",
       "                        [{\"cells\": {\"fill\": {\"color\": \"#EDFAFF\"}, \"values\": [[\"f1\"], 0.7646326276463262, 0.7727825030376672, 0.7679012345679013]}, \"header\": {\"fill\": {\"color\": \"#a1c3d1\"}, \"values\": [\"\", \"KN Neighbors\", \"Decision tree\", \"Random forest\"]}, \"type\": \"table\", \"uid\": \"5540f769-275f-4d04-b4ec-0d5c5d21da5c\"}],\n",
       "                        {\"title\": {\"text\": \"Comparison of classification models for class_arousal\", \"x\": 0, \"xref\": \"paper\"}},\n",
       "                        {\"showLink\": false, \"linkText\": \"Export to plot.ly\", \"plotlyServerURL\": \"https://plot.ly\", \"responsive\": true}\n",
       "                    ).then(function(){\n",
       "                            \n",
       "var gd = document.getElementById('ae87b8f3-5229-4e51-88bb-fa854e7dbaa3');\n",
       "var x = new MutationObserver(function (mutations, observer) {{\n",
       "        var display = window.getComputedStyle(gd).display;\n",
       "        if (!display || display === 'none') {{\n",
       "            console.log([gd, 'removed!']);\n",
       "            Plotly.purge(gd);\n",
       "            observer.disconnect();\n",
       "        }}\n",
       "}});\n",
       "\n",
       "// Listen for the removal of the full notebook cells\n",
       "var notebookContainer = gd.closest('#notebook-container');\n",
       "if (notebookContainer) {{\n",
       "    x.observe(notebookContainer, {childList: true});\n",
       "}}\n",
       "\n",
       "// Listen for the clearing of the current output cell\n",
       "var outputEl = gd.closest('.output');\n",
       "if (outputEl) {{\n",
       "    x.observe(outputEl, {childList: true});\n",
       "}}\n",
       "\n",
       "                        })\n",
       "                };\n",
       "                });\n",
       "            </script>\n",
       "        </div>"
      ]
     },
     "metadata": {},
     "output_type": "display_data"
    }
   ],
   "source": [
    "perfromOnTargetClassification(targets[2])\n",
    "perfromOnTargetClassification(targets[3])"
   ]
  },
  {
   "cell_type": "code",
   "execution_count": null,
   "metadata": {},
   "outputs": [],
   "source": []
  }
 ],
 "metadata": {
  "kernelspec": {
   "display_name": "Python 3",
   "language": "python",
   "name": "python3"
  },
  "language_info": {
   "codemirror_mode": {
    "name": "ipython",
    "version": 3
   },
   "file_extension": ".py",
   "mimetype": "text/x-python",
   "name": "python",
   "nbconvert_exporter": "python",
   "pygments_lexer": "ipython3",
   "version": "3.7.3"
  }
 },
 "nbformat": 4,
 "nbformat_minor": 2
}
